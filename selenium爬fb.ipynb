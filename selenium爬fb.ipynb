{
 "cells": [
  {
   "cell_type": "code",
   "execution_count": null,
   "metadata": {},
   "outputs": [],
   "source": [
    "from selenium import webdriver\n",
    "import time\n",
    "\n",
    "# profile = webdriver.ChromeProfile()\n",
    "# profile.set_preference(\"dom.webnotifications.enabled\", False) # 將頁面通知關掉\n",
    "driver = webdriver.Chrome(executable_path=r'C:\\Users\\user\\AppData\\Local\\Programs\\Python\\Python37-32\\chromedriver.exe')\n",
    "# driver.get(\"http://www.facebook.com\")\n",
    "# time.sleep(3)\n",
    "# driver.find_element_by_id(\"email\").send_keys('e7569876@yahoo.com.tw') # 將 USERNAME改為你的臉書帳號\n",
    "# driver.find_element_by_id(\"pass\").send_keys('e75983461') # 將 PASSWORD改為你的臉書密碼\n",
    "# driver.find_element_by_id(\"loginbutton\").click()\n",
    "# time.sleep(3)\n",
    "driver.get('https://www.facebook.com/vlsports/')"
   ]
  },
  {
   "cell_type": "code",
   "execution_count": null,
   "metadata": {},
   "outputs": [],
   "source": [
    "for i in range(30): # 捲動12次\n",
    "    driver.execute_script(\"window.scrollTo(0, 1000000)\".format(2000 * (i + 1))) #每次捲動 4000的單位\n",
    "    time.sleep(6) # 等待 3秒鐘讓頁面讀取"
   ]
  },
  {
   "cell_type": "code",
   "execution_count": null,
   "metadata": {},
   "outputs": [],
   "source": [
    "def ClickForMore():\n",
    "    hrefBtns = driver.find_elements_by_tag_name('a')\n",
    "    for btn in hrefBtns:\n",
    "        try:\n",
    "            s = btn.get_attribute('data-testid')\n",
    "        except:\n",
    "            continue\n",
    "        if s == 'UFI2CommentsPagerRenderer/pager_depth_1' or s == 'UFI2CommentsPagerRenderer/pager_depth_0':\n",
    "            try:\n",
    "                btn.click()\n",
    "                time.sleep(1)\n",
    "            except:\n",
    "                continue\n",
    "ClickForMore()\n",
    "ClickForMore()"
   ]
  },
  {
   "cell_type": "code",
   "execution_count": null,
   "metadata": {},
   "outputs": [],
   "source": [
    "from bs4 import BeautifulSoup\n",
    "import datetime\n",
    "import re\n",
    "\n",
    "htmltext = driver.page_source # 將網頁原始碼拿出來\n",
    "\n",
    "\n",
    "def parse_htmltext(htmltext, start_date, end_date):\n",
    "    '''\n",
    "    解析臉書貼文與回覆的原始碼。\n",
    "    htmltext為原始碼，str\n",
    "    star_date為起始日期，datetime.datetime\n",
    "    end_date為結束日期，datetime.datetime\n",
    "    '''   \n",
    "    post_persons = []\n",
    "    comment_persons = []\n",
    "    good_urllist = [] # 回復表情符號超連結\n",
    "    ustart_date = start_date.timestamp()\n",
    "    uend_date = end_date.timestamp()\n",
    "    soup = BeautifulSoup(htmltext, 'html.parser')\n",
    "    body = soup.find('body')\n",
    "    posts = body.select('div[id=\"pagelet_group_mall\"]')[0].select('div[aria-label=\"動態消息\"]')[0]\n",
    "    feed_articles = posts.select('div[role=\"feed\"]')[0].select('div[role=\"article\"]')\n",
    "    other_articles = posts.select('div[role=\"article\"]')\n",
    "    articles = feed_articles + other_articles # 所有貼文或留言\n",
    "    \n",
    "    for article in articles:\n",
    "        if article.has_attr('id'):\n",
    "            try:\n",
    "                post_person = re.findall('title=\"(.{2,20})\"><div class=', str(article))[0]\n",
    "            except:\n",
    "                continue\n",
    "            post_time = int(re.findall('data-utime=\"(.*?)\"', str(article))[0])        \n",
    "            if post_time >= ustart_date and post_time <= uend_date:                \n",
    "                post_persons.append(post_person)\n",
    "            try:\n",
    "                good_urllist.append(re.findall('\"(/ufi/reaction/profile/browser/\\?.*?)\"', str(article))[0])\n",
    "            except:\n",
    "                pass\n",
    "    \n",
    "        elif article.has_attr('data-testid'):            \n",
    "            comment_person = re.findall('directed_target_id.*?href=\".*?\">(.*?)</a>', str(article))[0]  \n",
    "            comment_time = int(re.findall('data-utime=\"(.*?)\"', str(article))[0])\n",
    "            if comment_time >= ustart_date and post_time <= uend_date:                    \n",
    "                comment_persons.append(comment_person)                    \n",
    "                try:\n",
    "                    good_urllist.append(re.findall('\"(/ufi/reaction/profile/browser/\\?.*?)\"', str(article))[0])\n",
    "                except:\n",
    "                    pass\n",
    "    \n",
    "    return post_persons, comment_persons, good_urllist\n",
    "\n",
    "post_persons, comment_persons, good_urllist = parse_htmltext(htmltext, datetime.datetime(2020, 3, 15), datetime.datetime(2020, 2, 28))"
   ]
  },
  {
   "cell_type": "code",
   "execution_count": null,
   "metadata": {},
   "outputs": [],
   "source": []
  },
  {
   "cell_type": "code",
   "execution_count": null,
   "metadata": {},
   "outputs": [],
   "source": []
  },
  {
   "cell_type": "code",
   "execution_count": null,
   "metadata": {},
   "outputs": [],
   "source": [
    "from selenium import webdriver\n",
    "driver = webdriver.Chrome(executable_path=r'C:\\Users\\user\\AppData\\Local\\Programs\\Python\\Python37-32\\chromedriver.exe')  # 建立 driver 物件\n",
    "driver.get(r'http://www.facebook.com')  # 連線至指定的網頁\n",
    "driver.quit()  # 關閉網頁並退出 driver"
   ]
  },
  {
   "cell_type": "code",
   "execution_count": null,
   "metadata": {},
   "outputs": [],
   "source": [
    "from selenium import webdriver\n",
    "from selenium.webdriver.common.by import By\n",
    "from selenium.webdriver.support.ui import WebDriverWait\n",
    "from selenium.webdriver.support import expected_conditions as EC\n",
    "from selenium.common.exceptions import TimeoutException\n",
    "\n",
    "try:\n",
    "    ele = WebDriverWait(driver, 10).until(\n",
    "        EC.visibility_of_element_located((By.ID, 'expanding_cta_close_button'))\n",
    "    )\n",
    "except TimeoutException:\n",
    "    print('超過時間還是找不到要找的東西')"
   ]
  },
  {
   "cell_type": "code",
   "execution_count": null,
   "metadata": {},
   "outputs": [],
   "source": [
    "while True:\n",
    "    ele = WebDriverWait(driver, 5).until(\n",
    "              ec.visibility_of_element_located((By.CLASS_NAME, 'UFIPagerLink')))\n",
    "    ele.click()"
   ]
  },
  {
   "cell_type": "code",
   "execution_count": null,
   "metadata": {},
   "outputs": [],
   "source": [
    "while True:\n",
    "    WebDriverWait(driver, 8).until_not(ec.presence_of_element_located(\n",
    "        (By.CSS_SELECTOR, '.mls.img._55ym._55yn._55yo')))\n",
    "    ele = WebDriverWait(driver, 5).until(\n",
    "        ec.visibility_of_element_located((By.CLASS_NAME, 'UFIPagerLink')))\n",
    "    ele.click()"
   ]
  },
  {
   "cell_type": "code",
   "execution_count": null,
   "metadata": {
    "scrolled": true
   },
   "outputs": [],
   "source": [
    "document.getElementById('u_0_c').remove();"
   ]
  },
  {
   "cell_type": "code",
   "execution_count": null,
   "metadata": {},
   "outputs": [],
   "source": [
    "while True:\n",
    "    try:\n",
    "        # 不要有正在跑的小圈圈\n",
    "        WebDriverWait(driver, 8).until_not(ec.presence_of_element_located(\n",
    "            (By.CSS_SELECTOR, '.mls.img._55ym._55yn._55yo')))\n",
    "        # 找「顯示先前留言」、「查看更多回覆」\n",
    "        ele = WebDriverWait(driver, 5).until(ec.visibility_of_element_located((By.CLASS_NAME, 'UFIPagerLink')))\n",
    "        ele.click()\n",
    "    except ElementClickInterceptedException:\n",
    "        print('remove')\n",
    "        # 移除下面的橫幕\n",
    "        js = \"document.getElementById('u_0_c').remove();\"\n",
    "        driver.execute_script(js)\n",
    "    except TimeoutException:\n",
    "        print('ok (1)')\n",
    "        break"
   ]
  },
  {
   "cell_type": "code",
   "execution_count": null,
   "metadata": {},
   "outputs": [],
   "source": [
    "for ele in driver.find_elements(By.CLASS, '_5v47 fss'):\n",
    "    ele.click()"
   ]
  },
  {
   "cell_type": "code",
   "execution_count": null,
   "metadata": {},
   "outputs": [],
   "source": []
  },
  {
   "cell_type": "code",
   "execution_count": null,
   "metadata": {},
   "outputs": [],
   "source": []
  }
 ],
 "metadata": {
  "kernelspec": {
   "display_name": "Python 3",
   "language": "python",
   "name": "python3"
  },
  "language_info": {
   "codemirror_mode": {
    "name": "ipython",
    "version": 3
   },
   "file_extension": ".py",
   "mimetype": "text/x-python",
   "name": "python",
   "nbconvert_exporter": "python",
   "pygments_lexer": "ipython3",
   "version": "3.6.10"
  }
 },
 "nbformat": 4,
 "nbformat_minor": 4
}
